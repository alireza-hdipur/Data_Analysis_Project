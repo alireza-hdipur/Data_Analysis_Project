{
  "nbformat": 4,
  "nbformat_minor": 0,
  "metadata": {
    "colab": {
      "provenance": []
    },
    "kernelspec": {
      "name": "python3",
      "display_name": "Python 3"
    },
    "language_info": {
      "name": "python"
    }
  },
  "cells": [
    {
      "cell_type": "markdown",
      "source": [
        "# Categorization Twitter Data"
      ],
      "metadata": {
        "id": "B505M1MbEh44"
      }
    },
    {
      "cell_type": "markdown",
      "source": [
        "In this project, I'm going to categorize Twitter's tweets into 3 parts. This is a very simple project,I selected some words and terms that commonly appear in some categories(I will explain it more later). There are 10000 tweets in this dataset. By the way, the dataset is from Kaggel.\n",
        "\n",
        "dataset: https://www.kaggle.com/datasets/anmolkumar/house-price-prediction-challenge\n",
        "\n",
        "Note: This is a very simple project and doesn't show the exact subject of the tweets, I just consider one token to recognize the category of tokens(unigram), It can be done by ML algorithms or Neural Networks to get a better and closer to the real result."
      ],
      "metadata": {
        "id": "ospQz-67HXtV"
      }
    },
    {
      "cell_type": "markdown",
      "source": [
        "## Preproccessing Data"
      ],
      "metadata": {
        "id": "Rg8coFE7Ey6N"
      }
    },
    {
      "cell_type": "code",
      "source": [
        "import numpy as np, pandas as pd, matplotlib.pyplot as plt\n",
        "whole_data = pd.read_csv(\"./twitter_dataset.csv\")"
      ],
      "metadata": {
        "id": "PION_T1BE8GN"
      },
      "execution_count": 160,
      "outputs": []
    },
    {
      "cell_type": "markdown",
      "source": [
        "This is our WHOLE data "
      ],
      "metadata": {
        "id": "OtqSibl4HTsV"
      }
    },
    {
      "cell_type": "code",
      "source": [
        "whole_data"
      ],
      "metadata": {
        "colab": {
          "base_uri": "https://localhost:8080/",
          "height": 423
        },
        "id": "DddRfaUQFHL1",
        "outputId": "4145d6da-1a32-4178-e8e6-65c114d70bef"
      },
      "execution_count": 161,
      "outputs": [
        {
          "output_type": "execute_result",
          "data": {
            "text/plain": [
              "      Tweet_ID         Username  \\\n",
              "0            1          julie81   \n",
              "1            2    richardhester   \n",
              "2            3   williamsjoseph   \n",
              "3            4      danielsmary   \n",
              "4            5       carlwarren   \n",
              "...        ...              ...   \n",
              "9995      9996            ntate   \n",
              "9996      9997   garrisonjoshua   \n",
              "9997      9998  adriennejackson   \n",
              "9998      9999         kcarlson   \n",
              "9999     10000       vdickerson   \n",
              "\n",
              "                                                   Text  Retweets  Likes  \\\n",
              "0     Party least receive say or single. Prevent pre...         2     25   \n",
              "1     Hotel still Congress may member staff. Media d...        35     29   \n",
              "2     Nice be her debate industry that year. Film wh...        51     25   \n",
              "3     Laugh explain situation career occur serious. ...        37     18   \n",
              "4     Involve sense former often approach government...        27     80   \n",
              "...                                                 ...       ...    ...   \n",
              "9995  Agree reflect military box ability ever hold. ...        81     86   \n",
              "9996  Born which push still. Degree sometimes contro...        73    100   \n",
              "9997  You day agent likely region. Teacher data mess...        10     62   \n",
              "9998  Guess without successful save. Particular natu...        21     60   \n",
              "9999  Body onto understand team about product beauti...        65     54   \n",
              "\n",
              "                Timestamp  \n",
              "0     2023-01-30 11:00:51  \n",
              "1     2023-01-02 22:45:58  \n",
              "2     2023-01-18 11:25:19  \n",
              "3     2023-04-10 22:06:29  \n",
              "4     2023-01-24 07:12:21  \n",
              "...                   ...  \n",
              "9995  2023-01-15 11:46:20  \n",
              "9996  2023-05-06 00:46:54  \n",
              "9997  2023-02-27 14:55:08  \n",
              "9998  2023-01-09 16:09:35  \n",
              "9999  2023-04-19 01:35:56  \n",
              "\n",
              "[10000 rows x 6 columns]"
            ],
            "text/html": [
              "\n",
              "  <div id=\"df-ca064e4d-ab7d-42b8-816d-458931930203\">\n",
              "    <div class=\"colab-df-container\">\n",
              "      <div>\n",
              "<style scoped>\n",
              "    .dataframe tbody tr th:only-of-type {\n",
              "        vertical-align: middle;\n",
              "    }\n",
              "\n",
              "    .dataframe tbody tr th {\n",
              "        vertical-align: top;\n",
              "    }\n",
              "\n",
              "    .dataframe thead th {\n",
              "        text-align: right;\n",
              "    }\n",
              "</style>\n",
              "<table border=\"1\" class=\"dataframe\">\n",
              "  <thead>\n",
              "    <tr style=\"text-align: right;\">\n",
              "      <th></th>\n",
              "      <th>Tweet_ID</th>\n",
              "      <th>Username</th>\n",
              "      <th>Text</th>\n",
              "      <th>Retweets</th>\n",
              "      <th>Likes</th>\n",
              "      <th>Timestamp</th>\n",
              "    </tr>\n",
              "  </thead>\n",
              "  <tbody>\n",
              "    <tr>\n",
              "      <th>0</th>\n",
              "      <td>1</td>\n",
              "      <td>julie81</td>\n",
              "      <td>Party least receive say or single. Prevent pre...</td>\n",
              "      <td>2</td>\n",
              "      <td>25</td>\n",
              "      <td>2023-01-30 11:00:51</td>\n",
              "    </tr>\n",
              "    <tr>\n",
              "      <th>1</th>\n",
              "      <td>2</td>\n",
              "      <td>richardhester</td>\n",
              "      <td>Hotel still Congress may member staff. Media d...</td>\n",
              "      <td>35</td>\n",
              "      <td>29</td>\n",
              "      <td>2023-01-02 22:45:58</td>\n",
              "    </tr>\n",
              "    <tr>\n",
              "      <th>2</th>\n",
              "      <td>3</td>\n",
              "      <td>williamsjoseph</td>\n",
              "      <td>Nice be her debate industry that year. Film wh...</td>\n",
              "      <td>51</td>\n",
              "      <td>25</td>\n",
              "      <td>2023-01-18 11:25:19</td>\n",
              "    </tr>\n",
              "    <tr>\n",
              "      <th>3</th>\n",
              "      <td>4</td>\n",
              "      <td>danielsmary</td>\n",
              "      <td>Laugh explain situation career occur serious. ...</td>\n",
              "      <td>37</td>\n",
              "      <td>18</td>\n",
              "      <td>2023-04-10 22:06:29</td>\n",
              "    </tr>\n",
              "    <tr>\n",
              "      <th>4</th>\n",
              "      <td>5</td>\n",
              "      <td>carlwarren</td>\n",
              "      <td>Involve sense former often approach government...</td>\n",
              "      <td>27</td>\n",
              "      <td>80</td>\n",
              "      <td>2023-01-24 07:12:21</td>\n",
              "    </tr>\n",
              "    <tr>\n",
              "      <th>...</th>\n",
              "      <td>...</td>\n",
              "      <td>...</td>\n",
              "      <td>...</td>\n",
              "      <td>...</td>\n",
              "      <td>...</td>\n",
              "      <td>...</td>\n",
              "    </tr>\n",
              "    <tr>\n",
              "      <th>9995</th>\n",
              "      <td>9996</td>\n",
              "      <td>ntate</td>\n",
              "      <td>Agree reflect military box ability ever hold. ...</td>\n",
              "      <td>81</td>\n",
              "      <td>86</td>\n",
              "      <td>2023-01-15 11:46:20</td>\n",
              "    </tr>\n",
              "    <tr>\n",
              "      <th>9996</th>\n",
              "      <td>9997</td>\n",
              "      <td>garrisonjoshua</td>\n",
              "      <td>Born which push still. Degree sometimes contro...</td>\n",
              "      <td>73</td>\n",
              "      <td>100</td>\n",
              "      <td>2023-05-06 00:46:54</td>\n",
              "    </tr>\n",
              "    <tr>\n",
              "      <th>9997</th>\n",
              "      <td>9998</td>\n",
              "      <td>adriennejackson</td>\n",
              "      <td>You day agent likely region. Teacher data mess...</td>\n",
              "      <td>10</td>\n",
              "      <td>62</td>\n",
              "      <td>2023-02-27 14:55:08</td>\n",
              "    </tr>\n",
              "    <tr>\n",
              "      <th>9998</th>\n",
              "      <td>9999</td>\n",
              "      <td>kcarlson</td>\n",
              "      <td>Guess without successful save. Particular natu...</td>\n",
              "      <td>21</td>\n",
              "      <td>60</td>\n",
              "      <td>2023-01-09 16:09:35</td>\n",
              "    </tr>\n",
              "    <tr>\n",
              "      <th>9999</th>\n",
              "      <td>10000</td>\n",
              "      <td>vdickerson</td>\n",
              "      <td>Body onto understand team about product beauti...</td>\n",
              "      <td>65</td>\n",
              "      <td>54</td>\n",
              "      <td>2023-04-19 01:35:56</td>\n",
              "    </tr>\n",
              "  </tbody>\n",
              "</table>\n",
              "<p>10000 rows × 6 columns</p>\n",
              "</div>\n",
              "      <button class=\"colab-df-convert\" onclick=\"convertToInteractive('df-ca064e4d-ab7d-42b8-816d-458931930203')\"\n",
              "              title=\"Convert this dataframe to an interactive table.\"\n",
              "              style=\"display:none;\">\n",
              "        \n",
              "  <svg xmlns=\"http://www.w3.org/2000/svg\" height=\"24px\"viewBox=\"0 0 24 24\"\n",
              "       width=\"24px\">\n",
              "    <path d=\"M0 0h24v24H0V0z\" fill=\"none\"/>\n",
              "    <path d=\"M18.56 5.44l.94 2.06.94-2.06 2.06-.94-2.06-.94-.94-2.06-.94 2.06-2.06.94zm-11 1L8.5 8.5l.94-2.06 2.06-.94-2.06-.94L8.5 2.5l-.94 2.06-2.06.94zm10 10l.94 2.06.94-2.06 2.06-.94-2.06-.94-.94-2.06-.94 2.06-2.06.94z\"/><path d=\"M17.41 7.96l-1.37-1.37c-.4-.4-.92-.59-1.43-.59-.52 0-1.04.2-1.43.59L10.3 9.45l-7.72 7.72c-.78.78-.78 2.05 0 2.83L4 21.41c.39.39.9.59 1.41.59.51 0 1.02-.2 1.41-.59l7.78-7.78 2.81-2.81c.8-.78.8-2.07 0-2.86zM5.41 20L4 18.59l7.72-7.72 1.47 1.35L5.41 20z\"/>\n",
              "  </svg>\n",
              "      </button>\n",
              "      \n",
              "  <style>\n",
              "    .colab-df-container {\n",
              "      display:flex;\n",
              "      flex-wrap:wrap;\n",
              "      gap: 12px;\n",
              "    }\n",
              "\n",
              "    .colab-df-convert {\n",
              "      background-color: #E8F0FE;\n",
              "      border: none;\n",
              "      border-radius: 50%;\n",
              "      cursor: pointer;\n",
              "      display: none;\n",
              "      fill: #1967D2;\n",
              "      height: 32px;\n",
              "      padding: 0 0 0 0;\n",
              "      width: 32px;\n",
              "    }\n",
              "\n",
              "    .colab-df-convert:hover {\n",
              "      background-color: #E2EBFA;\n",
              "      box-shadow: 0px 1px 2px rgba(60, 64, 67, 0.3), 0px 1px 3px 1px rgba(60, 64, 67, 0.15);\n",
              "      fill: #174EA6;\n",
              "    }\n",
              "\n",
              "    [theme=dark] .colab-df-convert {\n",
              "      background-color: #3B4455;\n",
              "      fill: #D2E3FC;\n",
              "    }\n",
              "\n",
              "    [theme=dark] .colab-df-convert:hover {\n",
              "      background-color: #434B5C;\n",
              "      box-shadow: 0px 1px 3px 1px rgba(0, 0, 0, 0.15);\n",
              "      filter: drop-shadow(0px 1px 2px rgba(0, 0, 0, 0.3));\n",
              "      fill: #FFFFFF;\n",
              "    }\n",
              "  </style>\n",
              "\n",
              "      <script>\n",
              "        const buttonEl =\n",
              "          document.querySelector('#df-ca064e4d-ab7d-42b8-816d-458931930203 button.colab-df-convert');\n",
              "        buttonEl.style.display =\n",
              "          google.colab.kernel.accessAllowed ? 'block' : 'none';\n",
              "\n",
              "        async function convertToInteractive(key) {\n",
              "          const element = document.querySelector('#df-ca064e4d-ab7d-42b8-816d-458931930203');\n",
              "          const dataTable =\n",
              "            await google.colab.kernel.invokeFunction('convertToInteractive',\n",
              "                                                     [key], {});\n",
              "          if (!dataTable) return;\n",
              "\n",
              "          const docLinkHtml = 'Like what you see? Visit the ' +\n",
              "            '<a target=\"_blank\" href=https://colab.research.google.com/notebooks/data_table.ipynb>data table notebook</a>'\n",
              "            + ' to learn more about interactive tables.';\n",
              "          element.innerHTML = '';\n",
              "          dataTable['output_type'] = 'display_data';\n",
              "          await google.colab.output.renderOutput(dataTable, element);\n",
              "          const docLink = document.createElement('div');\n",
              "          docLink.innerHTML = docLinkHtml;\n",
              "          element.appendChild(docLink);\n",
              "        }\n",
              "      </script>\n",
              "    </div>\n",
              "  </div>\n",
              "  "
            ]
          },
          "metadata": {},
          "execution_count": 161
        }
      ]
    },
    {
      "cell_type": "code",
      "source": [
        "whole_data.dropna(inplace=True)"
      ],
      "metadata": {
        "id": "KRGMWaxluyS2"
      },
      "execution_count": 162,
      "outputs": []
    },
    {
      "cell_type": "markdown",
      "source": [
        "We don't need some of the features, like Timestamp or Username, so we should delete these features from the dataset"
      ],
      "metadata": {
        "id": "AV6tpND0HRfL"
      }
    },
    {
      "cell_type": "code",
      "source": [
        "data = whole_data.drop(['Username','Timestamp'], axis = 1)"
      ],
      "metadata": {
        "id": "MIlv1gCYwCND"
      },
      "execution_count": 163,
      "outputs": []
    },
    {
      "cell_type": "markdown",
      "source": [
        "Now, our data is : "
      ],
      "metadata": {
        "id": "BZcYt7KyHLTs"
      }
    },
    {
      "cell_type": "code",
      "source": [
        "data"
      ],
      "metadata": {
        "colab": {
          "base_uri": "https://localhost:8080/",
          "height": 423
        },
        "id": "lWL7Jtg8Fq4Y",
        "outputId": "5af4cfe9-c01d-41de-b53a-b404b8ec07a7"
      },
      "execution_count": 164,
      "outputs": [
        {
          "output_type": "execute_result",
          "data": {
            "text/plain": [
              "      Tweet_ID                                               Text  Retweets  \\\n",
              "0            1  Party least receive say or single. Prevent pre...         2   \n",
              "1            2  Hotel still Congress may member staff. Media d...        35   \n",
              "2            3  Nice be her debate industry that year. Film wh...        51   \n",
              "3            4  Laugh explain situation career occur serious. ...        37   \n",
              "4            5  Involve sense former often approach government...        27   \n",
              "...        ...                                                ...       ...   \n",
              "9995      9996  Agree reflect military box ability ever hold. ...        81   \n",
              "9996      9997  Born which push still. Degree sometimes contro...        73   \n",
              "9997      9998  You day agent likely region. Teacher data mess...        10   \n",
              "9998      9999  Guess without successful save. Particular natu...        21   \n",
              "9999     10000  Body onto understand team about product beauti...        65   \n",
              "\n",
              "      Likes  \n",
              "0        25  \n",
              "1        29  \n",
              "2        25  \n",
              "3        18  \n",
              "4        80  \n",
              "...     ...  \n",
              "9995     86  \n",
              "9996    100  \n",
              "9997     62  \n",
              "9998     60  \n",
              "9999     54  \n",
              "\n",
              "[10000 rows x 4 columns]"
            ],
            "text/html": [
              "\n",
              "  <div id=\"df-4ee77855-69e7-4703-8b26-e4208b1ca672\">\n",
              "    <div class=\"colab-df-container\">\n",
              "      <div>\n",
              "<style scoped>\n",
              "    .dataframe tbody tr th:only-of-type {\n",
              "        vertical-align: middle;\n",
              "    }\n",
              "\n",
              "    .dataframe tbody tr th {\n",
              "        vertical-align: top;\n",
              "    }\n",
              "\n",
              "    .dataframe thead th {\n",
              "        text-align: right;\n",
              "    }\n",
              "</style>\n",
              "<table border=\"1\" class=\"dataframe\">\n",
              "  <thead>\n",
              "    <tr style=\"text-align: right;\">\n",
              "      <th></th>\n",
              "      <th>Tweet_ID</th>\n",
              "      <th>Text</th>\n",
              "      <th>Retweets</th>\n",
              "      <th>Likes</th>\n",
              "    </tr>\n",
              "  </thead>\n",
              "  <tbody>\n",
              "    <tr>\n",
              "      <th>0</th>\n",
              "      <td>1</td>\n",
              "      <td>Party least receive say or single. Prevent pre...</td>\n",
              "      <td>2</td>\n",
              "      <td>25</td>\n",
              "    </tr>\n",
              "    <tr>\n",
              "      <th>1</th>\n",
              "      <td>2</td>\n",
              "      <td>Hotel still Congress may member staff. Media d...</td>\n",
              "      <td>35</td>\n",
              "      <td>29</td>\n",
              "    </tr>\n",
              "    <tr>\n",
              "      <th>2</th>\n",
              "      <td>3</td>\n",
              "      <td>Nice be her debate industry that year. Film wh...</td>\n",
              "      <td>51</td>\n",
              "      <td>25</td>\n",
              "    </tr>\n",
              "    <tr>\n",
              "      <th>3</th>\n",
              "      <td>4</td>\n",
              "      <td>Laugh explain situation career occur serious. ...</td>\n",
              "      <td>37</td>\n",
              "      <td>18</td>\n",
              "    </tr>\n",
              "    <tr>\n",
              "      <th>4</th>\n",
              "      <td>5</td>\n",
              "      <td>Involve sense former often approach government...</td>\n",
              "      <td>27</td>\n",
              "      <td>80</td>\n",
              "    </tr>\n",
              "    <tr>\n",
              "      <th>...</th>\n",
              "      <td>...</td>\n",
              "      <td>...</td>\n",
              "      <td>...</td>\n",
              "      <td>...</td>\n",
              "    </tr>\n",
              "    <tr>\n",
              "      <th>9995</th>\n",
              "      <td>9996</td>\n",
              "      <td>Agree reflect military box ability ever hold. ...</td>\n",
              "      <td>81</td>\n",
              "      <td>86</td>\n",
              "    </tr>\n",
              "    <tr>\n",
              "      <th>9996</th>\n",
              "      <td>9997</td>\n",
              "      <td>Born which push still. Degree sometimes contro...</td>\n",
              "      <td>73</td>\n",
              "      <td>100</td>\n",
              "    </tr>\n",
              "    <tr>\n",
              "      <th>9997</th>\n",
              "      <td>9998</td>\n",
              "      <td>You day agent likely region. Teacher data mess...</td>\n",
              "      <td>10</td>\n",
              "      <td>62</td>\n",
              "    </tr>\n",
              "    <tr>\n",
              "      <th>9998</th>\n",
              "      <td>9999</td>\n",
              "      <td>Guess without successful save. Particular natu...</td>\n",
              "      <td>21</td>\n",
              "      <td>60</td>\n",
              "    </tr>\n",
              "    <tr>\n",
              "      <th>9999</th>\n",
              "      <td>10000</td>\n",
              "      <td>Body onto understand team about product beauti...</td>\n",
              "      <td>65</td>\n",
              "      <td>54</td>\n",
              "    </tr>\n",
              "  </tbody>\n",
              "</table>\n",
              "<p>10000 rows × 4 columns</p>\n",
              "</div>\n",
              "      <button class=\"colab-df-convert\" onclick=\"convertToInteractive('df-4ee77855-69e7-4703-8b26-e4208b1ca672')\"\n",
              "              title=\"Convert this dataframe to an interactive table.\"\n",
              "              style=\"display:none;\">\n",
              "        \n",
              "  <svg xmlns=\"http://www.w3.org/2000/svg\" height=\"24px\"viewBox=\"0 0 24 24\"\n",
              "       width=\"24px\">\n",
              "    <path d=\"M0 0h24v24H0V0z\" fill=\"none\"/>\n",
              "    <path d=\"M18.56 5.44l.94 2.06.94-2.06 2.06-.94-2.06-.94-.94-2.06-.94 2.06-2.06.94zm-11 1L8.5 8.5l.94-2.06 2.06-.94-2.06-.94L8.5 2.5l-.94 2.06-2.06.94zm10 10l.94 2.06.94-2.06 2.06-.94-2.06-.94-.94-2.06-.94 2.06-2.06.94z\"/><path d=\"M17.41 7.96l-1.37-1.37c-.4-.4-.92-.59-1.43-.59-.52 0-1.04.2-1.43.59L10.3 9.45l-7.72 7.72c-.78.78-.78 2.05 0 2.83L4 21.41c.39.39.9.59 1.41.59.51 0 1.02-.2 1.41-.59l7.78-7.78 2.81-2.81c.8-.78.8-2.07 0-2.86zM5.41 20L4 18.59l7.72-7.72 1.47 1.35L5.41 20z\"/>\n",
              "  </svg>\n",
              "      </button>\n",
              "      \n",
              "  <style>\n",
              "    .colab-df-container {\n",
              "      display:flex;\n",
              "      flex-wrap:wrap;\n",
              "      gap: 12px;\n",
              "    }\n",
              "\n",
              "    .colab-df-convert {\n",
              "      background-color: #E8F0FE;\n",
              "      border: none;\n",
              "      border-radius: 50%;\n",
              "      cursor: pointer;\n",
              "      display: none;\n",
              "      fill: #1967D2;\n",
              "      height: 32px;\n",
              "      padding: 0 0 0 0;\n",
              "      width: 32px;\n",
              "    }\n",
              "\n",
              "    .colab-df-convert:hover {\n",
              "      background-color: #E2EBFA;\n",
              "      box-shadow: 0px 1px 2px rgba(60, 64, 67, 0.3), 0px 1px 3px 1px rgba(60, 64, 67, 0.15);\n",
              "      fill: #174EA6;\n",
              "    }\n",
              "\n",
              "    [theme=dark] .colab-df-convert {\n",
              "      background-color: #3B4455;\n",
              "      fill: #D2E3FC;\n",
              "    }\n",
              "\n",
              "    [theme=dark] .colab-df-convert:hover {\n",
              "      background-color: #434B5C;\n",
              "      box-shadow: 0px 1px 3px 1px rgba(0, 0, 0, 0.15);\n",
              "      filter: drop-shadow(0px 1px 2px rgba(0, 0, 0, 0.3));\n",
              "      fill: #FFFFFF;\n",
              "    }\n",
              "  </style>\n",
              "\n",
              "      <script>\n",
              "        const buttonEl =\n",
              "          document.querySelector('#df-4ee77855-69e7-4703-8b26-e4208b1ca672 button.colab-df-convert');\n",
              "        buttonEl.style.display =\n",
              "          google.colab.kernel.accessAllowed ? 'block' : 'none';\n",
              "\n",
              "        async function convertToInteractive(key) {\n",
              "          const element = document.querySelector('#df-4ee77855-69e7-4703-8b26-e4208b1ca672');\n",
              "          const dataTable =\n",
              "            await google.colab.kernel.invokeFunction('convertToInteractive',\n",
              "                                                     [key], {});\n",
              "          if (!dataTable) return;\n",
              "\n",
              "          const docLinkHtml = 'Like what you see? Visit the ' +\n",
              "            '<a target=\"_blank\" href=https://colab.research.google.com/notebooks/data_table.ipynb>data table notebook</a>'\n",
              "            + ' to learn more about interactive tables.';\n",
              "          element.innerHTML = '';\n",
              "          dataTable['output_type'] = 'display_data';\n",
              "          await google.colab.output.renderOutput(dataTable, element);\n",
              "          const docLink = document.createElement('div');\n",
              "          docLink.innerHTML = docLinkHtml;\n",
              "          element.appendChild(docLink);\n",
              "        }\n",
              "      </script>\n",
              "    </div>\n",
              "  </div>\n",
              "  "
            ]
          },
          "metadata": {},
          "execution_count": 164
        }
      ]
    },
    {
      "cell_type": "markdown",
      "source": [
        "## In this section I chose 3 Categorize as a list, each category has some keywords or terms that appear in its category. I use ChatGPT for finding these keywords. For example, in Political Category these words are often used: 'government', 'policy', 'legislation', 'election', 'democracy' "
      ],
      "metadata": {
        "id": "NKTgfp6KJFyF"
      }
    },
    {
      "cell_type": "code",
      "source": [
        "political = ['president', 'government', 'policy', 'legislation', 'election', 'democracy', 'political ideology', 'partisanship', 'campaign', 'lobbying', 'diplomacy', 'Bureaucracy', 'Nationalism', 'Authoritarianism', 'Propaganda', 'Public opinion', 'Social contract', 'International relations', 'Civil liberties', 'Executive branch', 'Legislative branch', 'Human rights', 'Separation of powers', 'Public goods', 'Public opinion polling', 'Governance', 'Political']\n",
        "relationship = ['relationship', 'family', 'marriage', 'friendship', 'partnership', 'collaboration', 'association', ' Connection', 'Interpersonal', 'sex', 'Intimacy','Positive regard', 'Social support network', 'Attachment figure', 'Emotional expression' ,' Social norms', 'Empathic listening', 'Social comparison', 'Social influence', 'Emotional regulation', 'Active listening', 'Emotional attachment', 'Conflict resolution', 'Emotional intimacy', 'Social skills', 'Emotional labor', 'Social support', 'Codependency', 'Respect', 'Love', 'Empathy' ,'Forgiveness', 'Trust', 'Commitment']\n",
        "social = ['society', 'social', 'culture', 'diversity', 'Inequality', 'identity' ,'discrimination', 'community', 'social justice', 'activism', 'Empowerment', 'Socialization', 'Social norms', 'Social mobility', 'Social capital', 'Intersectionality', 'Oppression' , 'Marginalization', 'Bias', 'Prejudice' , 'Stereotype', 'Online community', 'Social media','Viral content', 'conversation', 'friendship', 'nature', 'voyage', 'trip', 'hangout', 'gym', 'university', 'free time']"
      ],
      "metadata": {
        "id": "-VhLFIFcwt7-"
      },
      "execution_count": 165,
      "outputs": []
    },
    {
      "cell_type": "markdown",
      "source": [
        "For the next part, I wrote a for loop which goes through each example(or Tweet) and checks if tweets have these keywords in them or NOT. Furthermore, in this loop, we count the sum of the Retweets and Likes. We need these things for our new DataFrame :)"
      ],
      "metadata": {
        "id": "ZhLBSZGhJ2a0"
      }
    },
    {
      "cell_type": "code",
      "source": [
        "list_political = []\n",
        "list_relational = []\n",
        "list_social = []\n",
        "list_other = []\n",
        "count_like_poli, count_ret_poli, count_like_rela, count_ret_rela, count_like_soc, count_ret_soc, overal_like, overal_reteewt  = 0,0,0,0,0,0,0,0\n",
        "count_like_other, count_ret_other =0,0\n",
        "\n",
        "for item in range(len(data.Tweet_ID)):\n",
        "    flag = False\n",
        "    string = data.iloc[item].Text.lower()\n",
        "    overal_like += data.iloc[item].Likes\n",
        "    overal_reteewt += data.iloc[item].Retweets\n",
        "\n",
        "    for i in political:\n",
        "        if i.lower() in string:\n",
        "            list_political.append(data.iloc[item])\n",
        "            count_like_poli += data.iloc[item].Likes\n",
        "            count_ret_poli += data.iloc[item].Retweets\n",
        "            flag = True\n",
        "            break\n",
        "\n",
        "    for i in relationship:\n",
        "        if i.lower() in string:\n",
        "            list_relational.append(data.iloc[item])\n",
        "            count_like_rela += data.iloc[item].Likes\n",
        "            count_ret_rela += data.iloc[item].Retweets\n",
        "            flag = True\n",
        "            break\n",
        "\n",
        "    for i in social:\n",
        "        if i.lower() in string:\n",
        "            count_like_soc += data.iloc[item].Likes\n",
        "            count_ret_soc += data.iloc[item].Retweets\n",
        "            list_social.append(data.iloc[item])\n",
        "            flag = True\n",
        "            break\n",
        "\n",
        "    if flag == False:\n",
        "        count_like_other += data.iloc[item].Likes\n",
        "        count_ret_other += data.iloc[item].Retweets\n",
        "        list_other.append(data.iloc[item])\n"
      ],
      "metadata": {
        "id": "FEPfc06AvwGm"
      },
      "execution_count": 166,
      "outputs": []
    },
    {
      "cell_type": "markdown",
      "source": [
        "In the next level we should make a dataframe"
      ],
      "metadata": {
        "id": "WtuVHXg0KvIV"
      }
    },
    {
      "cell_type": "code",
      "source": [
        "new_data = {\n",
        "    \"Type\" : ['Relationship', 'Social', 'Political','Others'],\n",
        "    \"Number of Tweets\": [len(list_relational), len(list_social), len(list_political), len(list_other)],\n",
        "    \"Sum of Retweets\": [count_ret_rela, count_ret_soc, count_ret_poli, count_ret_other],\n",
        "    \"Sum of Likes\": [count_like_rela, count_like_soc, count_like_poli, count_like_other],\n",
        "    \"Percent of ReTweets\":  [round(count_ret_rela/overal_reteewt*100), round(count_ret_soc/overal_reteewt*100), round(count_ret_poli/overal_reteewt*100), round(count_ret_other/overal_reteewt*100)],\n",
        "    \"Precent of Likes\": [round(count_like_rela/overal_like*100), round(count_like_soc/overal_like *100), round(count_like_poli/overal_like*100), round(count_like_other/overal_like*100)]\n",
        "}\n",
        "new_data = pd.DataFrame(new_data)"
      ],
      "metadata": {
        "id": "guoaqNZw_sQ_"
      },
      "execution_count": 167,
      "outputs": []
    },
    {
      "cell_type": "markdown",
      "source": [
        "## And Done!!!!! (Result)"
      ],
      "metadata": {
        "id": "HLG6n3bHK_PC"
      }
    },
    {
      "cell_type": "code",
      "source": [
        "new_data"
      ],
      "metadata": {
        "colab": {
          "base_uri": "https://localhost:8080/",
          "height": 175
        },
        "id": "46nLhd4qDOzT",
        "outputId": "c4617aee-ac16-42c6-8cc4-5ca4ab438bc1"
      },
      "execution_count": 168,
      "outputs": [
        {
          "output_type": "execute_result",
          "data": {
            "text/plain": [
              "           Type  Number of Tweets  Sum of Retweets  Sum of Likes  \\\n",
              "0  Relationship              1043            54179         52834   \n",
              "1        Social              1948            96139         99285   \n",
              "2     Political              1832            91529         93160   \n",
              "3        Others              5899           291826        291798   \n",
              "\n",
              "   Percent of ReTweets  Precent of Likes  \n",
              "0                   11                11  \n",
              "1                   19                20  \n",
              "2                   18                19  \n",
              "3                   59                58  "
            ],
            "text/html": [
              "\n",
              "  <div id=\"df-94ddeba5-16e7-4048-b207-02aeb52f210e\">\n",
              "    <div class=\"colab-df-container\">\n",
              "      <div>\n",
              "<style scoped>\n",
              "    .dataframe tbody tr th:only-of-type {\n",
              "        vertical-align: middle;\n",
              "    }\n",
              "\n",
              "    .dataframe tbody tr th {\n",
              "        vertical-align: top;\n",
              "    }\n",
              "\n",
              "    .dataframe thead th {\n",
              "        text-align: right;\n",
              "    }\n",
              "</style>\n",
              "<table border=\"1\" class=\"dataframe\">\n",
              "  <thead>\n",
              "    <tr style=\"text-align: right;\">\n",
              "      <th></th>\n",
              "      <th>Type</th>\n",
              "      <th>Number of Tweets</th>\n",
              "      <th>Sum of Retweets</th>\n",
              "      <th>Sum of Likes</th>\n",
              "      <th>Percent of ReTweets</th>\n",
              "      <th>Precent of Likes</th>\n",
              "    </tr>\n",
              "  </thead>\n",
              "  <tbody>\n",
              "    <tr>\n",
              "      <th>0</th>\n",
              "      <td>Relationship</td>\n",
              "      <td>1043</td>\n",
              "      <td>54179</td>\n",
              "      <td>52834</td>\n",
              "      <td>11</td>\n",
              "      <td>11</td>\n",
              "    </tr>\n",
              "    <tr>\n",
              "      <th>1</th>\n",
              "      <td>Social</td>\n",
              "      <td>1948</td>\n",
              "      <td>96139</td>\n",
              "      <td>99285</td>\n",
              "      <td>19</td>\n",
              "      <td>20</td>\n",
              "    </tr>\n",
              "    <tr>\n",
              "      <th>2</th>\n",
              "      <td>Political</td>\n",
              "      <td>1832</td>\n",
              "      <td>91529</td>\n",
              "      <td>93160</td>\n",
              "      <td>18</td>\n",
              "      <td>19</td>\n",
              "    </tr>\n",
              "    <tr>\n",
              "      <th>3</th>\n",
              "      <td>Others</td>\n",
              "      <td>5899</td>\n",
              "      <td>291826</td>\n",
              "      <td>291798</td>\n",
              "      <td>59</td>\n",
              "      <td>58</td>\n",
              "    </tr>\n",
              "  </tbody>\n",
              "</table>\n",
              "</div>\n",
              "      <button class=\"colab-df-convert\" onclick=\"convertToInteractive('df-94ddeba5-16e7-4048-b207-02aeb52f210e')\"\n",
              "              title=\"Convert this dataframe to an interactive table.\"\n",
              "              style=\"display:none;\">\n",
              "        \n",
              "  <svg xmlns=\"http://www.w3.org/2000/svg\" height=\"24px\"viewBox=\"0 0 24 24\"\n",
              "       width=\"24px\">\n",
              "    <path d=\"M0 0h24v24H0V0z\" fill=\"none\"/>\n",
              "    <path d=\"M18.56 5.44l.94 2.06.94-2.06 2.06-.94-2.06-.94-.94-2.06-.94 2.06-2.06.94zm-11 1L8.5 8.5l.94-2.06 2.06-.94-2.06-.94L8.5 2.5l-.94 2.06-2.06.94zm10 10l.94 2.06.94-2.06 2.06-.94-2.06-.94-.94-2.06-.94 2.06-2.06.94z\"/><path d=\"M17.41 7.96l-1.37-1.37c-.4-.4-.92-.59-1.43-.59-.52 0-1.04.2-1.43.59L10.3 9.45l-7.72 7.72c-.78.78-.78 2.05 0 2.83L4 21.41c.39.39.9.59 1.41.59.51 0 1.02-.2 1.41-.59l7.78-7.78 2.81-2.81c.8-.78.8-2.07 0-2.86zM5.41 20L4 18.59l7.72-7.72 1.47 1.35L5.41 20z\"/>\n",
              "  </svg>\n",
              "      </button>\n",
              "      \n",
              "  <style>\n",
              "    .colab-df-container {\n",
              "      display:flex;\n",
              "      flex-wrap:wrap;\n",
              "      gap: 12px;\n",
              "    }\n",
              "\n",
              "    .colab-df-convert {\n",
              "      background-color: #E8F0FE;\n",
              "      border: none;\n",
              "      border-radius: 50%;\n",
              "      cursor: pointer;\n",
              "      display: none;\n",
              "      fill: #1967D2;\n",
              "      height: 32px;\n",
              "      padding: 0 0 0 0;\n",
              "      width: 32px;\n",
              "    }\n",
              "\n",
              "    .colab-df-convert:hover {\n",
              "      background-color: #E2EBFA;\n",
              "      box-shadow: 0px 1px 2px rgba(60, 64, 67, 0.3), 0px 1px 3px 1px rgba(60, 64, 67, 0.15);\n",
              "      fill: #174EA6;\n",
              "    }\n",
              "\n",
              "    [theme=dark] .colab-df-convert {\n",
              "      background-color: #3B4455;\n",
              "      fill: #D2E3FC;\n",
              "    }\n",
              "\n",
              "    [theme=dark] .colab-df-convert:hover {\n",
              "      background-color: #434B5C;\n",
              "      box-shadow: 0px 1px 3px 1px rgba(0, 0, 0, 0.15);\n",
              "      filter: drop-shadow(0px 1px 2px rgba(0, 0, 0, 0.3));\n",
              "      fill: #FFFFFF;\n",
              "    }\n",
              "  </style>\n",
              "\n",
              "      <script>\n",
              "        const buttonEl =\n",
              "          document.querySelector('#df-94ddeba5-16e7-4048-b207-02aeb52f210e button.colab-df-convert');\n",
              "        buttonEl.style.display =\n",
              "          google.colab.kernel.accessAllowed ? 'block' : 'none';\n",
              "\n",
              "        async function convertToInteractive(key) {\n",
              "          const element = document.querySelector('#df-94ddeba5-16e7-4048-b207-02aeb52f210e');\n",
              "          const dataTable =\n",
              "            await google.colab.kernel.invokeFunction('convertToInteractive',\n",
              "                                                     [key], {});\n",
              "          if (!dataTable) return;\n",
              "\n",
              "          const docLinkHtml = 'Like what you see? Visit the ' +\n",
              "            '<a target=\"_blank\" href=https://colab.research.google.com/notebooks/data_table.ipynb>data table notebook</a>'\n",
              "            + ' to learn more about interactive tables.';\n",
              "          element.innerHTML = '';\n",
              "          dataTable['output_type'] = 'display_data';\n",
              "          await google.colab.output.renderOutput(dataTable, element);\n",
              "          const docLink = document.createElement('div');\n",
              "          docLink.innerHTML = docLinkHtml;\n",
              "          element.appendChild(docLink);\n",
              "        }\n",
              "      </script>\n",
              "    </div>\n",
              "  </div>\n",
              "  "
            ]
          },
          "metadata": {},
          "execution_count": 168
        }
      ]
    },
    {
      "cell_type": "markdown",
      "source": [
        "## Visualization"
      ],
      "metadata": {
        "id": "TpUYbVS7tmr6"
      }
    },
    {
      "cell_type": "markdown",
      "source": [
        "Pie chart"
      ],
      "metadata": {
        "id": "SP6MjW1mtqJi"
      }
    },
    {
      "cell_type": "code",
      "source": [
        "labels = ['Relationship', 'Social', 'political', 'Others']\n",
        "values = [1043,1948,1832,5899]\n",
        "\n",
        "plt.pie(values, labels = labels)\n",
        "plt.title('Number of tweets for each Categories')\n",
        "plt.xlabel('Category')\n",
        "plt.ylabel('Number of tweets')\n",
        "plt.show()"
      ],
      "metadata": {
        "colab": {
          "base_uri": "https://localhost:8080/",
          "height": 448
        },
        "id": "iS7apxJOtcfj",
        "outputId": "8d6057a6-825e-4f7b-88b2-a99126da2529"
      },
      "execution_count": 169,
      "outputs": [
        {
          "output_type": "display_data",
          "data": {
            "text/plain": [
              "<Figure size 640x480 with 1 Axes>"
            ],
            "image/png": "[encoded data removed]"
          },
          "metadata": {}
        }
      ]
    },
    {
      "cell_type": "markdown",
      "source": [
        "Bar Chart(1)"
      ],
      "metadata": {
        "id": "9ptz-xoGwIRy"
      }
    },
    {
      "cell_type": "code",
      "source": [
        "labels = ['Relationship', 'Social', 'political', 'Others']\n",
        "values = [new_data['Sum of Retweets'][0],new_data['Sum of Retweets'][1],new_data['Sum of Retweets'][2],new_data['Sum of Retweets'][3]]\n",
        "\n",
        "plt.bar(labels,values)\n",
        "plt.title('Number of retweet for each Categories')\n",
        "plt.xlabel('Category')\n",
        "plt.ylabel('Number of Retweets')\n",
        "plt.show()"
      ],
      "metadata": {
        "colab": {
          "base_uri": "https://localhost:8080/",
          "height": 472
        },
        "id": "TUinhRPzwVqz",
        "outputId": "f5702677-c9c0-4b44-ad36-f060857c15aa"
      },
      "execution_count": 170,
      "outputs": [
        {
          "output_type": "display_data",
          "data": {
            "text/plain": [
              "<Figure size 640x480 with 1 Axes>"
            ],
            "image/png": "[encoded data removed]"
          },
          "metadata": {}
        }
      ]
    },
    {
      "cell_type": "markdown",
      "source": [
        "Bar Chart(2)"
      ],
      "metadata": {
        "id": "6Y5jnfz_wLAp"
      }
    },
    {
      "cell_type": "code",
      "source": [
        "labels = ['Relationship', 'Social', 'political', 'Others']\n",
        "values = [new_data['Sum of Likes'][0],new_data['Sum of Likes'][1],new_data['Sum of Likes'][2],new_data['Sum of Likes'][3]]\n",
        "\n",
        "plt.bar(labels,values)\n",
        "plt.title('Number of Likes for each Categories')\n",
        "plt.xlabel('Category')\n",
        "plt.ylabel('Number of Likes')\n",
        "plt.show()"
      ],
      "metadata": {
        "colab": {
          "base_uri": "https://localhost:8080/",
          "height": 472
        },
        "id": "ShemZIhBwWMI",
        "outputId": "ab515b28-51f2-4ac2-9244-4401bae0d39a"
      },
      "execution_count": 171,
      "outputs": [
        {
          "output_type": "display_data",
          "data": {
            "text/plain": [
              "<Figure size 640x480 with 1 Axes>"
            ],
            "image/png": "[encoded data removed]"
          },
          "metadata": {}
        }
      ]
    },
    {
      "cell_type": "markdown",
      "source": [
        "Export data"
      ],
      "metadata": {
        "id": "VfSevpcKxgiS"
      }
    },
    {
      "cell_type": "code",
      "source": [
        "new_data.to_excel('Twitter_categorize.xlsx', index = False)"
      ],
      "metadata": {
        "id": "vrN-aejmpYWe"
      },
      "execution_count": 172,
      "outputs": []
    }
  ]
}